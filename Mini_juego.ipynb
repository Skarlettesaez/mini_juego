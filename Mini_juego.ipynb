{
 "cells": [
  {
   "cell_type": "code",
   "execution_count": 5,
   "metadata": {},
   "outputs": [
    {
     "name": "stdout",
     "output_type": "stream",
     "text": [
      "Que comience el juego\n"
     ]
    }
   ],
   "source": [
    "print(\"Que comience el juego\") "
   ]
  },
  {
   "cell_type": "code",
   "execution_count": 11,
   "metadata": {},
   "outputs": [
    {
     "name": "stdout",
     "output_type": "stream",
     "text": [
      "El numero ganador del juego es: 9\n"
     ]
    }
   ],
   "source": [
    "#numeros alearorios \n",
    "\n",
    "import random #este codio nos permite utilizar numeros aleatorios \n",
    "valor_random = random.randint(0,25)\n",
    "print(f\"El numero ganador del juego es: {valor_random}\") #f sirve para reemplazar el valor que tendra"
   ]
  },
  {
   "cell_type": "code",
   "execution_count": 13,
   "metadata": {},
   "outputs": [
    {
     "name": "stdout",
     "output_type": "stream",
     "text": [
      "el valor elegido es de tipo <class 'str'>\n",
      "Ahora el valor es de tipo <class 'int'> y su valor ingresado es 6\n"
     ]
    }
   ],
   "source": [
    "#recibiendo un numero en tiempo real \n",
    "valor_seleccionado = input(\"escriba un numero\")\n",
    "print(f\"el valor elegido es de tipo {type(valor_seleccionado)}\")\n",
    "valor_seleccionado = int(valor_seleccionado) #este codigo sirve para que python pueda leer mejor los textos en numeros \n",
    "print(f\"Ahora el valor es de tipo {type(valor_seleccionado)} y su valor ingresado es {valor_seleccionado}\")"
   ]
  },
  {
   "cell_type": "code",
   "execution_count": 16,
   "metadata": {},
   "outputs": [
    {
     "name": "stdout",
     "output_type": "stream",
     "text": [
      "El numero ganador del juego es: 1\n",
      "el valor elegido es de tipo <class 'str'>\n",
      "Mmh intenta un numero menor\n",
      "el valor elegido es de tipo <class 'str'>\n",
      "Mmh intenta un numero menor\n",
      "el valor elegido es de tipo <class 'str'>\n",
      "Crack! lo lograste\n"
     ]
    }
   ],
   "source": [
    "# Desarrollando oprtunidades\n",
    "import random\n",
    "valor_random = random.randint(0,25)\n",
    "print(f\"El numero ganador del juego es: {valor_random}\") \n",
    "\n",
    "for i in range(3):\n",
    " \n",
    " #Recibiendo un valor ingresado en tiempo real\n",
    "   valor_seleccionado = input(\"escriba un numero\")\n",
    "   print(f\"el valor elegido es de tipo {type(valor_seleccionado)}\")\n",
    "   valor_seleccionado = int(valor_seleccionado)\n",
    "   \n",
    "   #Estableciendo las condiciones y oprtunidades del juego\n",
    "\n",
    "   if valor_random < valor_seleccionado: \n",
    "      print(\"Mmh intenta un numero menor\")\n",
    "   \n",
    "   if valor_seleccionado < valor_random: \n",
    "      print(\"Podrias elegir un numero mayor\")\n",
    "\n",
    "   if valor_seleccionado == valor_random: \n",
    "      print(\"Crack! lo lograste\")\n",
    "\n",
    "      break"
   ]
  }
 ],
 "metadata": {
  "kernelspec": {
   "display_name": "Python 3.10.8 64-bit (microsoft store)",
   "language": "python",
   "name": "python3"
  },
  "language_info": {
   "codemirror_mode": {
    "name": "ipython",
    "version": 3
   },
   "file_extension": ".py",
   "mimetype": "text/x-python",
   "name": "python",
   "nbconvert_exporter": "python",
   "pygments_lexer": "ipython3",
   "version": "3.10.8"
  },
  "orig_nbformat": 4,
  "vscode": {
   "interpreter": {
    "hash": "f1d37f91f629d3331e981a075e150c75f3e295e3529e41cf8a0627810b8b185a"
   }
  }
 },
 "nbformat": 4,
 "nbformat_minor": 2
}
